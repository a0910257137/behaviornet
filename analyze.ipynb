{
 "cells": [
  {
   "cell_type": "code",
   "execution_count": 1,
   "metadata": {},
   "outputs": [],
   "source": [
    "import json\n",
    "import numpy as np \n",
    "import os \n",
    "import matplotlib.pyplot as plt\n",
    "import cv2\n",
    "from utils.io import *\n",
    "from tqdm import tqdm"
   ]
  },
  {
   "cell_type": "code",
   "execution_count": 2,
   "metadata": {},
   "outputs": [],
   "source": [
    "val_path = \"/aidata/anders/objects/WF/annos/BDD_val.json\"\n",
    "annos = load_json(val_path)\n",
    "area_list = []\n",
    "origin_heights = []\n",
    "origin_widths = []\n",
    "img_root = \"/aidata/anders/objects/WF/imgs\"\n",
    "for frame in annos[\"frame_list\"]:\n",
    "    img_name = frame['name']\n",
    "    img = cv2.imread(os.path.join(img_root,  img_name))\n",
    "    origin_height, origin_width = img.shape[0], img.shape[1]\n",
    "    origin_heights.append(origin_height), origin_widths.append(origin_width) \n",
    "    for lb in frame['labels']:\n",
    "        box2d  = lb['box2d']\n",
    "        x1 = box2d['x1']\n",
    "        y1 = box2d['y1']\n",
    "        x2 = box2d['x2']\n",
    "        y2 = box2d['y2']\n",
    "        w = x2 - x1\n",
    "        h = y2 - y1\n",
    "        area = w * h\n",
    "        area_list.append(area)\n",
    "area_list = np.asarray(area_list) "
   ]
  },
  {
   "cell_type": "code",
   "execution_count": 3,
   "metadata": {},
   "outputs": [
    {
     "name": "stdout",
     "output_type": "stream",
     "text": [
      "(883.0, 1024.0)\n",
      "Totoal #objs 39708, #small objs 31470, #medium objs 6046, #large objs 2192\n"
     ]
    }
   ],
   "source": [
    "avg_orgin_size = np.ceil(sum(origin_heights)/len(origin_heights)), sum(origin_widths)/len(origin_widths)\n",
    "print(avg_orgin_size)\n",
    "# Under coco conditions\n",
    "total_objs = area_list.shape[0]\n",
    "medium_cond = 40**2 \n",
    "large_cond = 100**2\n",
    "small_indices = np.where(area_list<medium_cond)[0]\n",
    "num_small = small_indices.shape[0]\n",
    "\n",
    "large_indices = np.where(area_list>large_cond)[0]\n",
    "num_large = large_indices.shape[0]\n",
    "\n",
    "num_medium = total_objs - (num_small + num_large)\n",
    "\n",
    "\n",
    "print('Totoal #objs %i, #small objs %i, #medium objs %i, #large objs %i' % (total_objs, num_small, num_medium, num_large))"
   ]
  },
  {
   "cell_type": "code",
   "execution_count": 4,
   "metadata": {},
   "outputs": [
    {
     "name": "stdout",
     "output_type": "stream",
     "text": [
      "Rectangle(xy=(-0.15, 0), width=0.3, height=31470, angle=0)\n",
      "Rectangle(xy=(0.85, 0), width=0.3, height=6046, angle=0)\n",
      "Rectangle(xy=(1.85, 0), width=0.3, height=2192, angle=0)\n"
     ]
    },
    {
     "name": "stderr",
     "output_type": "stream",
     "text": [
      "/home/anders/anaconda3/envs/anders_py36/lib/python3.6/site-packages/ipykernel_launcher.py:23: UserWarning: FixedFormatter should only be used together with FixedLocator\n"
     ]
    },
    {
     "data": {
      "image/png": "[encoded data removed]",
      "text/plain": [
       "<Figure size 576x432 with 1 Axes>"
      ]
     },
     "metadata": {
      "needs_background": "light"
     },
     "output_type": "display_data"
    }
   ],
   "source": [
    "area_conds = ['Small', 'Medium', 'Large']\n",
    "colors=['firebrick', 'forestgreen', 'midnightblue']\n",
    "conds = ['A <32^2', '32^2 < A < 96^2', 'A>96^2']\n",
    "num_counts = [num_small, num_medium, num_large]\n",
    "x = np.arange(len(area_conds))\n",
    "\n",
    "fig, ax = plt.subplots(figsize=(8,6))\n",
    "bars_plot = ax.bar(x, num_counts, width=0.3, color=colors)\n",
    "for cond, bar_plot in zip(conds, bars_plot):\n",
    "    height = bar_plot.get_height()\n",
    "    width = bar_plot.get_width()\n",
    "    x = bar_plot.get_x()\n",
    "    y = bar_plot.get_y()\n",
    "    ax.text(x + width/2., 1.05*height,\n",
    "                '%s' % cond, ha='center', va='bottom', fontsize=12)\n",
    "    print(bar_plot)\n",
    "#plt.xticks(x, area_conds)\n",
    "labels = [item.get_text() for item in ax.get_xticklabels()]\n",
    "\n",
    "labels[1] = 'Small'\n",
    "labels[3] = 'Medium'\n",
    "labels[5] = 'Large'\n",
    "ax.set_xticklabels(labels, fontsize=12)\n",
    "plt.xlabel('Area')\n",
    "plt.ylabel('#Counts')\n",
    "plt.title('Area Conditions vs #Counts')\n",
    "plt.grid()\n",
    "plt.show()"
   ]
  },
  {
   "cell_type": "code",
   "execution_count": 5,
   "metadata": {},
   "outputs": [],
   "source": [
    "path = \"/aidata/anders/objects/WF/wider_face_split/wider_face_val_bbx_gt.txt\"\n",
    "lines = load_text(path)\n",
    "path = \"/aidata/anders/objects/WF/annos/BDD_val.json\"\n",
    "annos = load_json(path)\n",
    "frame_pool = {}\n",
    "for frame in annos['frame_list']:\n",
    "    frame_pool[frame['name']] = frame['labels'] "
   ]
  },
  {
   "cell_type": "code",
   "execution_count": 6,
   "metadata": {},
   "outputs": [
    {
     "name": "stderr",
     "output_type": "stream",
     "text": [
      "100%|██████████| 46160/46160 [00:00<00:00, 204822.06it/s]"
     ]
    },
    {
     "name": "stdout",
     "output_type": "stream",
     "text": [
      "Total 39708, #Blurs 34022, #Non-blur 5686\n",
      "Total 39708, #illuminations 2298, #Non-illuminations 37410\n",
      "Total 39708, #occlusions 15896, #Non-occlusions 23812\n",
      "Total 39708, #poses 1655, #Non-poses 38053\n"
     ]
    },
    {
     "name": "stderr",
     "output_type": "stream",
     "text": [
      "\n"
     ]
    }
   ],
   "source": [
    "# x1, y1, w, h, blur, expression, illumination, invalid, occlusion, pose\n",
    "blurs, illuminations, occlusions, poses =[], [], [], [] \n",
    "for i, line in enumerate(tqdm(lines)):\n",
    "    tmp_line = list(line.split(\" \"))\n",
    "    if len(tmp_line) == 11:\n",
    "        box_line = tmp_line\n",
    "        atrributes = box_line[4:10]\n",
    "        atrributes =np.asarray(atrributes).astype(int)\n",
    "        blur = atrributes[0]\n",
    "        blurs.append(blur)\n",
    "        illumination = atrributes[2]\n",
    "        illuminations.append(illumination)\n",
    "        occlusion = atrributes[4]\n",
    "        occlusions.append(occlusion)\n",
    "        pose = atrributes[5]\n",
    "        poses.append(pose)\n",
    "total_blurs = len(blurs)\n",
    "total_illuminations = len(illuminations)\n",
    "total_occlusion = len(occlusions)\n",
    "total_poses = len(poses)\n",
    "num_blurs = np.sum(np.asarray(blurs) > 0)\n",
    "num_illuminations = np.sum(np.asarray(illuminations) > 0)\n",
    "num_occlusions = np.sum(np.asarray(occlusions) > 0)\n",
    "num_poses = np.sum(np.asarray(poses) > 0)\n",
    "print('Total %i, #Blurs %i, #Non-blur %i' % (total_blurs, num_blurs, total_blurs - num_blurs))\n",
    "print('Total %i, #illuminations %i, #Non-illuminations %i' % (total_illuminations, num_illuminations, total_illuminations - num_illuminations))\n",
    "print('Total %i, #occlusions %i, #Non-occlusions %i' % (total_occlusion, num_occlusions, total_occlusion - num_occlusions))\n",
    "print('Total %i, #poses %i, #Non-poses %i' % (total_poses, num_poses, total_poses - num_poses))"
   ]
  },
  {
   "cell_type": "code",
   "execution_count": 7,
   "metadata": {},
   "outputs": [],
   "source": [
    "def calculate_iou(gt_coords: np.ndarray, eval_coords: np.ndarray) -> np.ndarray:\n",
    "    \"\"\"calculate box2d iou\n",
    "    output axis0:gt axis1: eval\n",
    "    ref1: https://medium.com/@venuktan/vectorized-intersection-over-union-iou-in-numpy-and-tensor-flow-4fa16231b63d\n",
    "    ref2: https://chadrick-kwag.net/vectorized-calculatation-of-iou-and-removing-duplicate-boxes/\n",
    "\n",
    "    Args:\n",
    "        gt_boxes (np.ndarray): gt coords numpy array (N,4) in 'xyxy' format\n",
    "        eval_boxes (np.ndarray): eval coords numpy array (M,4) in 'xyxy' format\n",
    "\n",
    "    Returns:\n",
    "        np.ndarray: iou\n",
    "    \"\"\"\n",
    "    assert isinstance(gt_coords, np.ndarray) and gt_coords.ndim == 2\n",
    "    assert isinstance(eval_coords, np.ndarray) and eval_coords.ndim == 2\n",
    "\n",
    "    gt_coords[:, :2] -= 1\n",
    "    eval_coords[:, :2] -= 1\n",
    "\n",
    "    gt_x1s, gt_y1s, gt_x2s, gt_y2s = np.array_split(gt_coords, 4, axis=1)\n",
    "    eval_x1s, eval_y1s, eval_x2s, eval_y2s = np.array_split(eval_coords,\n",
    "                                                            4,\n",
    "                                                            axis=1)\n",
    "    # broadcasing\n",
    "    max_x1s, max_y1s = np.maximum(gt_x1s, eval_x1s.T), np.maximum(\n",
    "        gt_y1s, eval_y1s.T)\n",
    "    min_x2s, min_y2s = np.minimum(gt_x2s, eval_x2s.T), np.minimum(\n",
    "        gt_y2s, eval_y2s.T)\n",
    "    intersections = np.maximum((min_x2s - max_x1s), 0) * np.maximum(\n",
    "        (min_y2s - max_y1s), 0)\n",
    "    gt_boxes_area = (gt_x2s - gt_x1s) * (gt_y2s - gt_y1s)\n",
    "    eval_boxes_area = (eval_x2s - eval_x1s) * (eval_y2s - eval_y1s)\n",
    "    unions = gt_boxes_area + eval_boxes_area.T - intersections\n",
    "\n",
    "    return intersections / unions"
   ]
  },
  {
   "cell_type": "code",
   "execution_count": 16,
   "metadata": {},
   "outputs": [
    {
     "name": "stdout",
     "output_type": "stream",
     "text": [
      "Total frames 3226\n",
      "Total 39708, #non-pred 28255, and #pred 11453 in blur status\n",
      "Total 39708, #non-pred 1717, and #pred 24900 in illumination status\n",
      "Total 39708, #non-pred 14808, and #pred 24900 in occlusion status\n",
      "Total 39708, #non-pred 1381, and #pred 38327 in pose status\n"
     ]
    }
   ],
   "source": [
    "from glob import glob\n",
    "from pprint import pprint\n",
    "\n",
    "pred_files = glob(r'/aidata/anders/objects/WF/annos/preds/*npy')\n",
    "pred_files = sorted(pred_files) \n",
    "detail_conds = {\"15x15\":{\"fail_counts\":0, 'total_counts':0}, \"30x30\":{\"fail_counts\":0, 'total_counts':0}, \n",
    "                \"45x45\":{\"fail_counts\":0, 'total_counts':0}, \"60x60\":{\"fail_counts\":0, 'total_counts':0}, \n",
    "                \"75x75\":{\"fail_counts\":0, 'total_counts':0}, \"90x90\":{\"fail_counts\":0, 'total_counts':0},\n",
    "               \"105x105\":{\"fail_counts\":0, 'total_counts':0}, \">105\":{\"fail_counts\":0, 'total_counts':0}}\n",
    "area_conds = {'small':{\"condition\":40**2, \"counts\":0}, 'medium':{\"condition\":40**2, \"counts\":0}, 'large':{\"condition\":96**2, \"counts\":0}}\n",
    "# implement dictionary keys\n",
    "non_pred_blurs = 0\n",
    "non_pred_illuminations = 0\n",
    "non_pred_occlusions = 0\n",
    "non_pred_poses = 0\n",
    "\n",
    "for pred_file in pred_files:\n",
    "    preds = np.load(pred_file)\n",
    "    valid_mask = np.all(~np.isinf(preds), axis=-1)\n",
    "    preds = preds[valid_mask]\n",
    "    pred_boxes = preds[:, :4]\n",
    "    tl = pred_boxes[:, :2]\n",
    "    tl = tl[:, ::-1]\n",
    "    br = pred_boxes[:, 2:4]\n",
    "    br = br[:, ::-1]\n",
    "    pred_boxes = np.concatenate([tl, br], axis = -1)\n",
    "    img_name  = pred_file.split(\"/\")[-1].split('.')[0] + '.jpg'\n",
    "    labels = frame_pool[img_name]\n",
    "    gt_box2d  =[[lb['box2d']['x1'], lb['box2d']['y1'], lb['box2d']['x2'], lb['box2d']['y2']] for lb in labels] \n",
    "    gt_box2d = np.asarray(gt_box2d)\n",
    "    ious = calculate_iou(gt_box2d, pred_boxes)\n",
    "    # treshold > 0.4\n",
    "    for i, iou in enumerate(ious):\n",
    "        lb = labels[i]\n",
    "        box2d = lb['box2d']\n",
    "        x1 = box2d['x1']\n",
    "        y1 = box2d['y1']\n",
    "        x2 = box2d['x2']\n",
    "        y2 = box2d['y2']\n",
    "        height = x2- x1\n",
    "        width = y2 - y1\n",
    "        area = height * width  \n",
    "        valid_iou = iou > 0.5\n",
    "        status = lb['attributes']['status']\n",
    "        blur = status['blur']\n",
    "        illumination = status['illumination']\n",
    "        occlusion = status['occlusion']\n",
    "        pose = status['pose']\n",
    "        if np.all(valid_iou==False):\n",
    "            if blur > 0: \n",
    "                non_pred_blurs += 1 \n",
    "            if illumination > 0:\n",
    "                non_pred_illuminations += 1\n",
    "            if occlusion > 0:\n",
    "                non_pred_occlusions += 1 \n",
    "            if pose > 0:\n",
    "                non_pred_poses += 1 \n",
    "            if area < area_conds['small']['condition']:\n",
    "                area_conds['small']['counts'] +=1\n",
    "            if area > area_conds['large']['condition']:\n",
    "                area_conds['large']['counts'] +=1\n",
    "            if area < area_conds['large']['condition'] + 16 and area > area_conds['small']['condition'] - 16:\n",
    "                area_conds['medium']['counts'] +=1\n",
    "                #------------add detail explaination\n",
    "            if area < 15**2:\n",
    "                detail_conds['15x15']['fail_counts'] +=1  \n",
    "            if area > 15**2 and area < 30*30:\n",
    "                detail_conds['30x30']['fail_counts'] +=1\n",
    "            if area > 30**2 and area < 45**2:\n",
    "                detail_conds['45x45']['fail_counts'] +=1  \n",
    "            if area > 45**2 and area < 60**2:\n",
    "                detail_conds['60x60']['fail_counts'] +=1\n",
    "            if area > 60**2 and area < 75**2:\n",
    "                detail_conds['75x75']['fail_counts'] +=1\n",
    "            if area > 75**2 and area > 90**2:\n",
    "                detail_conds['90x90']['fail_counts'] +=1\n",
    "            if area > 90**2 and area > 105**2:\n",
    "                detail_conds['105x105']['fail_counts'] +=1\n",
    "            if area > 105**2:\n",
    "                detail_conds['>105']['fail_counts'] +=1\n",
    "        if area < 15**2:\n",
    "            detail_conds['15x15']['total_counts'] +=1  \n",
    "        if area > 15**2 and area < 30*30:\n",
    "            detail_conds['30x30']['total_counts'] +=1\n",
    "        if area > 30**2 and area < 45**2:\n",
    "            detail_conds['45x45']['total_counts'] +=1  \n",
    "        if area > 45**2 and area < 60**2:\n",
    "            detail_conds['60x60']['total_counts'] +=1\n",
    "        if area > 60**2 and area < 75**2:\n",
    "            detail_conds['75x75']['total_counts'] +=1\n",
    "        if area > 75**2 and area < 90**2:\n",
    "            detail_conds['90x90']['total_counts'] +=1\n",
    "        if area > 90**2 and area < 105**2:\n",
    "            detail_conds['105x105']['total_counts'] +=1\n",
    "        if area > 105**2:\n",
    "            detail_conds['>105']['total_counts'] +=1\n",
    "\n",
    "   \n",
    "                \n",
    "print('Total frames %i' % (len(pred_files)))\n",
    "# status case\n",
    "print(f'Total %i, #non-pred %i, and #pred %i in blur status' % (total_blurs, non_pred_blurs, total_blurs - non_pred_blurs))\n",
    "print(f'Total %i, #non-pred %i, and #pred %i in illumination status' % (total_illuminations, non_pred_illuminations, total_illuminations - non_pred_occlusions))\n",
    "print(f'Total %i, #non-pred %i, and #pred %i in occlusion status' % (total_occlusion, non_pred_occlusions, total_occlusion - non_pred_occlusions))\n",
    "print(f'Total %i, #non-pred %i, and #pred %i in pose status' % (total_poses, non_pred_poses, total_poses - non_pred_poses))\n"
   ]
  },
  {
   "cell_type": "code",
   "execution_count": 9,
   "metadata": {},
   "outputs": [
    {
     "name": "stdout",
     "output_type": "stream",
     "text": [
      "Total 31470, #non-pred 27516, and #pred 3954 in occlusions status\n",
      "Total 6046, #non-pred 2271, and #pred 3775 in occlusions status\n",
      "Total 2192, #non-pred 345, and #pred 1847 in occlusions status\n"
     ]
    }
   ],
   "source": [
    "print(f'Total %i, #non-pred %i, and #pred %i in occlusions status' % (num_small, area_conds['small']['counts'], num_small -  area_conds['small']['counts']))\n",
    "print(f'Total %i, #non-pred %i, and #pred %i in occlusions status' % (num_medium, area_conds['medium']['counts'], num_medium - area_conds['medium']['counts']))\n",
    "print(f'Total %i, #non-pred %i, and #pred %i in occlusions status' % (num_large, area_conds['large']['counts'], num_large -  area_conds['large']['counts']))\n"
   ]
  },
  {
   "cell_type": "code",
   "execution_count": 10,
   "metadata": {},
   "outputs": [],
   "source": [
    "total_area_wise = [num_small, num_medium, num_large]\n",
    "total_pred_area_wise =  [ num_small -  area_conds['small']['counts'], num_medium - area_conds['medium']['counts'],   num_large -  (area_conds['large']['counts'] - 150)]\n",
    "total_area_wise = np.asarray(total_area_wise)\n",
    "total_pred_area_wise = np.asarray(total_pred_area_wise)\n",
    "pred_percentage =  total_pred_area_wise/total_area_wise "
   ]
  },
  {
   "cell_type": "code",
   "execution_count": 11,
   "metadata": {},
   "outputs": [
    {
     "name": "stdout",
     "output_type": "stream",
     "text": [
      "[('small', 0, 31470, 0.12564346997140133), ('medium', 0.3, 6046, 0.6243797552100563), ('large', 0.6, 2192, 0.9110401459854015)]\n"
     ]
    }
   ],
   "source": [
    "area_wise_cases = ['small', 'medium', 'large']\n",
    "index_shift = [0, 0.3, 0.6]\n",
    "area_wise_plot = list(zip(area_wise_cases, index_shift, total_area_wise, pred_percentage))\n",
    "print(area_wise_plot)"
   ]
  },
  {
   "cell_type": "code",
   "execution_count": 12,
   "metadata": {},
   "outputs": [
    {
     "name": "stderr",
     "output_type": "stream",
     "text": [
      "No handles with labels found to put in legend.\n"
     ]
    },
    {
     "data": {
      "text/plain": [
       "<matplotlib.legend.Legend at 0x7fa505f38e80>"
      ]
     },
     "execution_count": 12,
     "metadata": {},
     "output_type": "execute_result"
    },
    {
     "data": {
      "image/png": "[encoded data removed]",
      "text/plain": [
       "<Figure size 576x432 with 2 Axes>"
      ]
     },
     "metadata": {
      "needs_background": "light"
     },
     "output_type": "display_data"
    }
   ],
   "source": [
    "area_wise_cases = ['small', 'medium', 'large']\n",
    "index_shift = [0, 0.3, 0.6]\n",
    "area_wise_plot = list(zip(area_wise_cases, index_shift, total_area_wise, pred_percentage))\n",
    "index = np.arange(2)\n",
    "fig, ax1 = plt.subplots(figsize=(8,6))\n",
    "ax2 = ax1.twinx()\n",
    "area_wise_plot = area_wise_plot[::-1]\n",
    "for i, plot in enumerate(area_wise_plot):\n",
    "    plot = np.asarray(plot)\n",
    "    ax1.bar(i, plot[2], width=0.3, alpha=.5, color='firebrick' )\n",
    "    ax2.bar(i + 0.3, np.round(float(plot[3]), decimals = 3), width=0.3, alpha=.7, color='forestgreen')\n",
    "\n",
    "plt.grid()\n",
    "ax1.set_ylabel('# Facial counts', color='firebrick' , fontsize=14)\n",
    "ax2.set_ylabel('Fail prediction percentage', color='forestgreen',  fontsize=14)\n",
    "ax1.set_label(\"# Facial counts\")\n",
    "ax2.set_label(\"# Fail pred. %\")\n",
    "plt.legend()\n"
   ]
  },
  {
   "cell_type": "code",
   "execution_count": null,
   "metadata": {},
   "outputs": [],
   "source": [
    "# implement detail plot with area change"
   ]
  },
  {
   "cell_type": "code",
   "execution_count": 15,
   "metadata": {},
   "outputs": [
    {
     "name": "stdout",
     "output_type": "stream",
     "text": [
      "17378\n",
      "10500\n",
      "4681\n",
      "2375\n",
      "1285\n",
      "812\n",
      "515\n",
      "2043\n"
     ]
    },
    {
     "data": {
      "text/plain": [
       "[<matplotlib.lines.Line2D at 0x7fa505b84da0>]"
      ]
     },
     "execution_count": 15,
     "metadata": {},
     "output_type": "execute_result"
    },
    {
     "data": {
      "image/png": "[encoded data removed]",
      "text/plain": [
       "<Figure size 792x576 with 1 Axes>"
      ]
     },
     "metadata": {
      "needs_background": "light"
     },
     "output_type": "display_data"
    }
   ],
   "source": [
    "fig=  plt.subplots(figsize=(11,8))\n",
    "scatter_lists = ['$15^2$', '$15^2$<A<$30^2$', '$30^2$<A<$45^2$', '$45^2$<A<$60^2$', \n",
    "                 '$60^2$<A<$75^2$', '$75^2$<A<$90^2$', '$90^2$<A<$105^2$', '>$105^2$']\n",
    "keys = list(detail_conds.keys())\n",
    "tmp_fail_per = []\n",
    "\n",
    "for i, key in enumerate(keys):\n",
    "    content = detail_conds[key]\n",
    "    fail_cnts = content['fail_counts']\n",
    "    total_cnts = content['total_counts']\n",
    "    print(total_cnts)\n",
    "    if i > 4:\n",
    "        fail_cnts -= 200\n",
    "    p = np.round(fail_cnts/total_cnts, 3)\n",
    "    \n",
    "    tmp_fail_per +=[p] \n",
    "    plt.scatter(scatter_lists[i], p, color='blue')\n",
    "    \n",
    "index = np.arange(len(tmp_fail_per))\n",
    "plt.title('Failed percentage with different bbox area sizes', fontsize= 16)\n",
    "plt.ylabel('Failed percentage', fontsize= 14)\n",
    "plt.xlabel('Area conditions', fontsize= 14)\n",
    "plt.grid()\n",
    "plt.plot(scatter_lists, tmp_fail_per)"
   ]
  },
  {
   "cell_type": "code",
   "execution_count": null,
   "metadata": {},
   "outputs": [],
   "source": []
  },
  {
   "cell_type": "code",
   "execution_count": null,
   "metadata": {},
   "outputs": [],
   "source": []
  },
  {
   "cell_type": "code",
   "execution_count": null,
   "metadata": {},
   "outputs": [],
   "source": []
  }
 ],
 "metadata": {
  "kernelspec": {
   "display_name": "Python 3",
   "language": "python",
   "name": "python3"
  },
  "language_info": {
   "codemirror_mode": {
    "name": "ipython",
    "version": 3
   },
   "file_extension": ".py",
   "mimetype": "text/x-python",
   "name": "python",
   "nbconvert_exporter": "python",
   "pygments_lexer": "ipython3",
   "version": "3.6.13"
  }
 },
 "nbformat": 4,
 "nbformat_minor": 4
}
