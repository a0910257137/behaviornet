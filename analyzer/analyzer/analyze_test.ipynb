{
 "cells": [
  {
   "cell_type": "code",
   "execution_count": 1,
   "metadata": {},
   "outputs": [],
   "source": [
    "import json\n",
    "import numpy as np\n",
    "import os\n",
    "from glob import glob\n",
    "from pprint import pprint\n",
    "from pathlib import Path, PosixPath\n",
    "import cv2\n",
    "from mpl_toolkits.mplot3d import Axes3D\n",
    "import matplotlib.pyplot as plt"
   ]
  },
  {
   "cell_type": "code",
   "execution_count": 2,
   "metadata": {},
   "outputs": [],
   "source": [
    "def load_json(path):\n",
    "    with open(path, 'r') as f:\n",
    "        data = json.load(f)\n",
    "    return data\n",
    "\n",
    "def dump_json(path, data):\n",
    "    Path(path).parent.mkdir(parents=True, exist_ok=True)\n",
    "    with open(path, 'w') as f:\n",
    "        json.dump(data, f)\n",
    "#AFLW\n",
    "# \"roll\",\"pitch\",\"yaw\",\n",
    "def load_text(path):\n",
    "    with open(path) as f:\n",
    "        return [l.replace(\"\\n\", \"\") for l in f.readlines()]"
   ]
  },
  {
   "cell_type": "code",
   "execution_count": 3,
   "metadata": {},
   "outputs": [],
   "source": [
    "path = \"/aidata/anders/objects/landmarks/demo_test/annos/BDD_correct_test.json\"\n",
    "annos = load_json(path)\n",
    "img_root = \"/aidata/anders/objects/landmarks/demo_test/crop_imgs\"\n",
    "tmp_objs = []\n",
    "tmp_mask = []\n",
    "for frame in annos[\"frame_list\"]:\n",
    "    name = frame[\"name\"]\n",
    "    img_path = os.path.join(img_root, name)\n",
    "    for lb in frame[\"labels\"]:\n",
    "        attr = lb[\"attributes\"]\n",
    "        tmp_objs.append(attr[\"difficulty\"])\n",
    "        tmp_mask.append(attr[\"mask\"])\n",
    "\n",
    "        \n",
    "tmp_objs = np.asarray(tmp_objs).astype(np.float32)\n",
    "tmp_mask = np.asarray(tmp_mask).astype(np.float32)"
   ]
  },
  {
   "cell_type": "code",
   "execution_count": 4,
   "metadata": {},
   "outputs": [
    {
     "name": "stdout",
     "output_type": "stream",
     "text": [
      "# difficulties 167\n",
      "# mask 341\n",
      "# both difficult and with mask 110\n"
     ]
    }
   ],
   "source": [
    "num_diffs = np.sum(tmp_objs)\n",
    "print(\"# difficulties %i\"% num_diffs)\n",
    "num_masks = np.sum(tmp_mask)\n",
    "print(\"# mask %i\"% num_masks)\n",
    "diff_mask = tmp_objs*tmp_mask\n",
    "num_diffs_masks = np.sum(diff_mask)\n",
    "print(\"# both difficult and with mask %i\"% num_diffs_masks)\n"
   ]
  },
  {
   "cell_type": "code",
   "execution_count": 5,
   "metadata": {},
   "outputs": [
    {
     "name": "stdout",
     "output_type": "stream",
     "text": [
      "# Easy 340\n",
      "# without mask 166\n",
      "# both Easy and without mask 109\n"
     ]
    }
   ],
   "source": [
    "easy = np.sum(~tmp_objs.astype(bool))\n",
    "print(\"# Easy %i\"% easy)\n",
    "num_no_masks = np.sum(~tmp_mask.astype(bool))\n",
    "print(\"# without mask %i\"% num_no_masks)\n",
    "easy_no_mask = (~tmp_objs.astype(bool))* (~tmp_mask.astype(bool))\n",
    "num_easy_no_mask = np.sum(easy_no_mask)\n",
    "print(\"# both Easy and without mask %i\"% num_easy_no_mask)\n"
   ]
  },
  {
   "cell_type": "code",
   "execution_count": 14,
   "metadata": {},
   "outputs": [
    {
     "data": {
      "image/png": "[encoded data removed]",
      "text/plain": [
       "<Figure size 432x288 with 1 Axes>"
      ]
     },
     "metadata": {
      "needs_background": "light"
     },
     "output_type": "display_data"
    }
   ],
   "source": [
    "import numpy as np\n",
    "import matplotlib.pyplot as plt\n",
    "case = ['Total', 'Easy', 'Hard']\n",
    "cnts = [507, 340, 167]\n",
    "x = np.arange(len(case))\n",
    "plt.bar(x, cnts, color=['red', 'green', 'blue', 'yellow'], alpha = 0.8, width = 0.5)\n",
    "plt.xticks(x, case)\n",
    "plt.ylabel('Counts')\n",
    "plt.title('Testing Dataset')\n",
    "plt.show()"
   ]
  },
  {
   "cell_type": "code",
   "execution_count": 16,
   "metadata": {},
   "outputs": [
    {
     "data": {
      "image/png": "[encoded data removed]",
      "text/plain": [
       "<Figure size 432x288 with 1 Axes>"
      ]
     },
     "metadata": {
      "needs_background": "light"
     },
     "output_type": "display_data"
    }
   ],
   "source": [
    "case = ['Easy', 'With. mask', 'Withoud mask']\n",
    "cnts = [340, 109, 231]\n",
    "x = np.arange(len(case))\n",
    "plt.bar(x, cnts, color=['green', 'yellow', 'gray'], alpha = 0.8, width = 0.5)\n",
    "plt.xticks(x, case)\n",
    "plt.ylabel('Counts')\n",
    "plt.title('Testing Dataset')\n",
    "plt.show()"
   ]
  },
  {
   "cell_type": "code",
   "execution_count": null,
   "metadata": {},
   "outputs": [],
   "source": []
  }
 ],
 "metadata": {
  "kernelspec": {
   "display_name": "Python 3",
   "language": "python",
   "name": "python3"
  },
  "language_info": {
   "codemirror_mode": {
    "name": "ipython",
    "version": 3
   },
   "file_extension": ".py",
   "mimetype": "text/x-python",
   "name": "python",
   "nbconvert_exporter": "python",
   "pygments_lexer": "ipython3",
   "version": "3.6.13"
  }
 },
 "nbformat": 4,
 "nbformat_minor": 4
}
