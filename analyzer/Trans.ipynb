{
 "cells": [
  {
   "cell_type": "code",
   "execution_count": 3,
   "metadata": {},
   "outputs": [],
   "source": [
    "import json\n",
    "import numpy as np\n",
    "import os\n",
    "import cv2\n",
    "import scipy.io as sio\n",
    "import copy\n",
    "import random\n",
    "from glob import glob\n",
    "from tqdm import tqdm\n",
    "import sys\n",
    "from pathlib import Path\n",
    "%matplotlib widget\n",
    "from mpl_toolkits.mplot3d import Axes3D\n",
    "import matplotlib.pyplot as plt"
   ]
  },
  {
   "cell_type": "code",
   "execution_count": 3,
   "metadata": {},
   "outputs": [],
   "source": [
    "def load_BFM(model_path):\n",
    "    ''' load BFM 3DMM model\n",
    "    Args:\n",
    "        model_path: path to BFM model. \n",
    "    Returns:\n",
    "        model: (nver = 53215, ntri = 105840). nver: number of vertices. ntri: number of triangles.\n",
    "            'shapeMU': [3*nver, 1]\n",
    "            'shapePC': [3*nver, 199]\n",
    "            'shapeEV': [199, 1]\n",
    "            'expMU': [3*nver, 1]\n",
    "            'expPC': [3*nver, 29]\n",
    "            'expEV': [29, 1]\n",
    "            'texMU': [3*nver, 1]\n",
    "            'texPC': [3*nver, 199]\n",
    "            'texEV': [199, 1]\n",
    "            'tri': [ntri, 3] (start from 1, should sub 1 in python and c++)\n",
    "            'tri_mouth': [114, 3] (start from 1, as a supplement to mouth triangles)\n",
    "            'kpt_ind': [68,] (start from 1)\n",
    "    PS:\n",
    "        You can change codes according to your own saved data.\n",
    "        Just make sure the model has corresponding attributes.\n",
    "    '''\n",
    "    C = sio.loadmat(model_path)\n",
    "    model = C['model']\n",
    "    model = model[0, 0]\n",
    "\n",
    "    # change dtype from double(np.float64) to np.float32,\n",
    "    # since big matrix process(espetially matrix dot) is too slow in python.\n",
    "    model['shapeMU'] = (model['shapeMU'] + model['expMU']).astype(np.float32)\n",
    "    model['shapePC'] = model['shapePC'].astype(np.float32)\n",
    "    model['shapeEV'] = model['shapeEV'].astype(np.float32)\n",
    "    model['expEV'] = model['expEV'].astype(np.float32)\n",
    "    model['expPC'] = model['expPC'].astype(np.float32)\n",
    "\n",
    "    # matlab start with 1. change to 0 in python.\n",
    "    model['tri'] = model['tri'].T.copy(order='C').astype(np.int32) - 1\n",
    "    model['tri_mouth'] = model['tri_mouth'].T.copy(order='C').astype(\n",
    "        np.int32) - 1\n",
    "    # kpt ind\n",
    "    model['kpt_ind'] = (np.squeeze(model['kpt_ind']) - 1).astype(np.int32)\n",
    "\n",
    "    return model"
   ]
  },
  {
   "cell_type": "code",
   "execution_count": 4,
   "metadata": {},
   "outputs": [],
   "source": [
    "head_model = load_BFM('/aidata/anders/objects/3D-head/3DDFA/BFM/BFM.mat')\n"
   ]
  },
  {
   "cell_type": "code",
   "execution_count": 8,
   "metadata": {},
   "outputs": [
    {
     "name": "stdout",
     "output_type": "stream",
     "text": [
      "(159645, 1)\n"
     ]
    }
   ],
   "source": [
    "kpt_ind = head_model['kpt_ind']\n",
    "X_ind_all = np.stack(\n",
    "    [kpt_ind * 3, kpt_ind * 3 + 1, kpt_ind * 3 + 2])\n",
    "X_ind_all = tf.concat([\n",
    "    X_ind_all[:, :17], X_ind_all[:, 17:27], X_ind_all[:, 36:48],\n",
    "    X_ind_all[:, 27:36], X_ind_all[:, 48:68]\n",
    "],\n",
    "                      axis=-1)\n",
    "valid_ind = np.reshape(np.transpose(X_ind_all), (-1))\n",
    "\n",
    "shapeMU = head_model['shapeMU']\n",
    "shapePC = head_model['shapePC'][:, :50] \n",
    "expPC = head_model['expPC'][:, :29]\n",
    "sp = np.zeros(shape=(50, 1))\n",
    "ep = np.zeros(shape=(29, 1))\n",
    "X = shapeMU + shapePC.dot(sp) + expPC.dot(ep)\n",
    "print(X.shape)"
   ]
  },
  {
   "cell_type": "code",
   "execution_count": null,
   "metadata": {},
   "outputs": [],
   "source": [
    "#TODO: if I get the x rotated vertices\n"
   ]
  }
 ],
 "metadata": {
  "kernelspec": {
   "display_name": "Python 3",
   "language": "python",
   "name": "python3"
  },
  "language_info": {
   "codemirror_mode": {
    "name": "ipython",
    "version": 3
   },
   "file_extension": ".py",
   "mimetype": "text/x-python",
   "name": "python",
   "nbconvert_exporter": "python",
   "pygments_lexer": "ipython3",
   "version": "3.8.13"
  }
 },
 "nbformat": 4,
 "nbformat_minor": 4
}
